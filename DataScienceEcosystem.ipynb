{
 "cells": [
  {
   "cell_type": "markdown",
   "metadata": {},
   "source": [
    "<center>\n",
    "    <img src=\"https://cf-courses-data.s3.us.cloud-object-storage.appdomain.cloud/IBMDeveloperSkillsNetwork-DS0105EN-SkillsNetwork/labs/Module2/images/SN_web_lightmode.png\" width=\"300\" alt=\"cognitiveclass.ai logo\">\n",
    "</center>\n"
   ]
  },
  {
   "cell_type": "markdown",
   "metadata": {},
   "source": [
    "#### Add your code below following the instructions given in the course\n"
   ]
  },
  {
   "cell_type": "markdown",
   "metadata": {},
   "source": [
    "# Data Science Tools and Ecosystem\n"
   ]
  },
  {
   "cell_type": "markdown",
   "metadata": {},
   "source": [
    "In this notebook, Data Science Tools and Ecosystem are summarized.\n"
   ]
  },
  {
   "cell_type": "markdown",
   "metadata": {},
   "source": [
    "**Objectives:**\n",
    "- Popular Languages for Data Science and quick intro\n",
    "- The Commonly used Libraries\n",
    "- Tools Data Sciecne\n",
    "- Functions for simple arithmetic operations"
   ]
  },
  {
   "cell_type": "markdown",
   "metadata": {},
   "source": [
    "## Some of the popular languages that Data Scientists use are:\n",
    "1. **Pyhton** - Python has a vast standard library and a vibrant ecosystem of third-party packages, making it suitable for a wide range of applications such as web development, data analysis, artificial intelligence, machine learning, automation, and more. Its versatility and ease of use have contributed to its popularity among developers worldwide.\n",
    "2. **R** - R is especially popular among statisticians, data analysts, and researchers for its extensive collection of packages designed for various statistical tasks. It offers a rich set of built-in functions and libraries for data manipulation, exploratory data analysis, hypothesis testing, regression, machine learning, and more.\n",
    "3. **SQL** - SQL is widely used in database management systems (DBMS) such as MySQL, PostgreSQL, SQLite, Microsoft SQL Server, Oracle Database, and many others. It is an essential skill for anyone working with data, as virtually all modern applications and systems rely on databases to store and retrieve information."
   ]
  },
  {
   "cell_type": "markdown",
   "metadata": {},
   "source": [
    "## Some of the commonly used libraries used by Data Scientists include:\n",
    "\n",
    "### For python\n",
    "1. Numpy\n",
    "2. Pandas\n",
    "3. Matplotlib\n",
    "4. Seaborn\n",
    "5. scikit-learn\n",
    "\n",
    "### For R\n",
    "1. ggplot2\n",
    "2. dplyr\n",
    "3. tidyr\n",
    "4. caret\n",
    "5. tidyverse\n"
   ]
  },
  {
   "cell_type": "markdown",
   "metadata": {},
   "source": [
    "| Data Science Tools |\n",
    "|:--------:|\n",
    "| Jupyter Notebook |\n",
    "| RStudio |\n",
    "| Apache Zeppelin |\n",
    "\n",
    "**Jupyter** Notebooks is an open-source web application that allows you to create and share documents containing live code, equations, visualizations, and narrative text. It supports various programming languages, including Python, R, Julia, and more, making it a versatile tool for interactive data analysis and exploration.\n",
    "\n",
    "**RStudio** is an integrated development environment (IDE) specifically designed for R programming. It provides a user-friendly interface for writing, executing, and debugging R code, as well as features such as syntax highlighting, code completion, and integrated help documentation. RStudio also includes tools for data visualization, package management, and version control.\n",
    "\n",
    "**Apache Zeppelin** is a web-based notebook IDE similar to Jupyter Notebooks but with support for multiple programming languages and data sources. It allows you to create dynamic and collaborative notebooks that combine code, visualizations, and narrative text. Zeppelin supports languages like Scala, Python, R, and SQL, making it suitable for a wide range of data science tasks, from data exploration to machine learning model development."
   ]
  },
  {
   "cell_type": "markdown",
   "metadata": {},
   "source": [
    "### Below are a few examples of evaluating arithmetic expressions in Python"
   ]
  },
  {
   "cell_type": "code",
   "execution_count": 1,
   "metadata": {},
   "outputs": [
    {
     "data": {
      "text/plain": [
       "17"
      ]
     },
     "execution_count": 1,
     "metadata": {},
     "output_type": "execute_result"
    }
   ],
   "source": [
    "# bulding function\n",
    "def mul_add(x, y, z):\n",
    "\n",
    "    # This a simple arithmetic expression to mutiply then add integers\n",
    "    return (x*y) + z\n",
    "\n",
    "result = mul_add(3, 4, 5) # calling function\n",
    "result"
   ]
  },
  {
   "cell_type": "code",
   "execution_count": 2,
   "metadata": {},
   "outputs": [
    {
     "data": {
      "text/plain": [
       "(3, 20)"
      ]
     },
     "execution_count": 2,
     "metadata": {},
     "output_type": "execute_result"
    }
   ],
   "source": [
    "# building function\n",
    "def min_to_h(n_minutes: int):\n",
    "\n",
    "    hours = n_minutes // 60 # This will convert N minutes to hours by diving by 60\n",
    "    minutes = n_minutes - (60 * hours) # Finding remained minutes\n",
    "    \n",
    "    return (hours, minutes)\n",
    "\n",
    "min_200 = min_to_h(200) # calling function\n",
    "min_200\n",
    "    "
   ]
  },
  {
   "cell_type": "markdown",
   "metadata": {},
   "source": [
    "# Author\n",
    "# Matin the Great\n",
    "\n",
    "Does not matter what excercise demands, I will write down my name in H1 style! "
   ]
  },
  {
   "cell_type": "code",
   "execution_count": null,
   "metadata": {},
   "outputs": [],
   "source": []
  }
 ],
 "metadata": {
  "kernelspec": {
   "display_name": "Python 3 (ipykernel)",
   "language": "python",
   "name": "python3"
  },
  "language_info": {
   "codemirror_mode": {
    "name": "ipython",
    "version": 3
   },
   "file_extension": ".py",
   "mimetype": "text/x-python",
   "name": "python",
   "nbconvert_exporter": "python",
   "pygments_lexer": "ipython3",
   "version": "3.11.8"
  }
 },
 "nbformat": 4,
 "nbformat_minor": 4
}
